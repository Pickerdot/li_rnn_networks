{
 "cells": [
  {
   "cell_type": "code",
   "execution_count": 1,
   "metadata": {},
   "outputs": [],
   "source": [
    "import numpy as np\n",
    "from random import random       \n",
    "import matplotlib.pyplot as plt\n",
    "from li_rn_network import li_rnn_networks, task_3back"
   ]
  },
  {
   "cell_type": "code",
   "execution_count": 2,
   "metadata": {},
   "outputs": [],
   "source": [
    "#パラメータの定義　difine parameter\n",
    "high_value = 1.0 #カテゴリーが提示された場合の画像提示時とインターバル時の出力\n",
    "low_value = 0.0 #カテゴリーが提示されていない場合の出力\n",
    "category_num = 2 #カテゴリー数\n",
    "steps_num = 3 #チャンク数"
   ]
  },
  {
   "cell_type": "code",
   "execution_count": 3,
   "metadata": {},
   "outputs": [],
   "source": [
    "#入力用データと教師用データを作成（３バック問題）　generate input and target data(3back task)\n",
    "input_data, target_data =task_3back(high_value, low_value, category_num)"
   ]
  },
  {
   "cell_type": "code",
   "execution_count": 4,
   "metadata": {},
   "outputs": [
    {
     "data": {
      "text/plain": [
       "array([[[1., 0.],\n",
       "        [1., 0.],\n",
       "        [1., 0.]],\n",
       "\n",
       "       [[1., 0.],\n",
       "        [1., 0.],\n",
       "        [0., 1.]],\n",
       "\n",
       "       [[1., 0.],\n",
       "        [0., 1.],\n",
       "        [1., 0.]],\n",
       "\n",
       "       [[1., 0.],\n",
       "        [0., 1.],\n",
       "        [0., 1.]],\n",
       "\n",
       "       [[0., 1.],\n",
       "        [1., 0.],\n",
       "        [1., 0.]],\n",
       "\n",
       "       [[0., 1.],\n",
       "        [1., 0.],\n",
       "        [0., 1.]],\n",
       "\n",
       "       [[0., 1.],\n",
       "        [0., 1.],\n",
       "        [1., 0.]],\n",
       "\n",
       "       [[0., 1.],\n",
       "        [0., 1.],\n",
       "        [0., 1.]]])"
      ]
     },
     "execution_count": 4,
     "metadata": {},
     "output_type": "execute_result"
    }
   ],
   "source": [
    "input_data"
   ]
  },
  {
   "cell_type": "code",
   "execution_count": 5,
   "metadata": {},
   "outputs": [
    {
     "data": {
      "text/plain": [
       "array([[1., 0.],\n",
       "       [1., 0.],\n",
       "       [1., 0.],\n",
       "       [1., 0.],\n",
       "       [0., 1.],\n",
       "       [0., 1.],\n",
       "       [0., 1.],\n",
       "       [0., 1.]])"
      ]
     },
     "execution_count": 5,
     "metadata": {},
     "output_type": "execute_result"
    }
   ],
   "source": [
    "target_data"
   ]
  },
  {
   "cell_type": "code",
   "execution_count": 6,
   "metadata": {},
   "outputs": [],
   "source": [
    "#ネットワークモデルの定義　difine network model\n",
    "I = category_num # 入力層のニューロン数　number of input layer's neuron\n",
    "H = 100 #リカレント結合をもつ中間層のニューロン数 number of hidden layer's neuron(reccurent)\n",
    "O = category_num #出力層のニューロン数\n",
    "\n",
    "Wih_size = 4 #入力層から中間層への結合の初期値の値　initial size of bond strength I to H\n",
    "Whh_size = 2 #層内結合の結合の初期値の値　initial size of bond strength H to H\n",
    "Who_size = 3 #中間層から出力層への結合の初期値の値　initial size of bond strength I to H\n",
    "\n",
    "lr = 0.01 #学習率　learning rate\n",
    "optimizer_model = 0 #オプティマイザーの選択　chose optimizer_model"
   ]
  },
  {
   "cell_type": "code",
   "execution_count": 7,
   "metadata": {},
   "outputs": [],
   "source": [
    "#ニューロンの生理学的パラメータの定義\n",
    "Tau_H = 100 #ニューロンの時定数(10～200)\n",
    "Tau_O = 70 #ニューロンの時定数(10～100)\n",
    "dt = 0.01 #オイラー法の最小時間(0.1～0.005)\n",
    "step_length = 100 #同じ入力が続く時間ms time length of one step\n",
    "size_nois = 1"
   ]
  },
  {
   "cell_type": "code",
   "execution_count": 8,
   "metadata": {},
   "outputs": [
    {
     "data": {
      "text/plain": [
       "0.01"
      ]
     },
     "execution_count": 8,
     "metadata": {},
     "output_type": "execute_result"
    }
   ],
   "source": [
    "lr"
   ]
  },
  {
   "cell_type": "code",
   "execution_count": 9,
   "metadata": {},
   "outputs": [],
   "source": [
    "#ネットワークモデルの生成\n",
    "li_rnn = li_rnn_networks(I,H,O,Wih_size,Whh_size,Who_size,steps_num)\n",
    "#学習に関するパラメータの設定　set parameter of leaning\n",
    "li_rnn.setlr(lr,optimizer_model)"
   ]
  },
  {
   "cell_type": "code",
   "execution_count": 10,
   "metadata": {},
   "outputs": [
    {
     "name": "stdout",
     "output_type": "stream",
     "text": [
      "loss: 0.03430637575942965 epoch: 5500\n",
      "_________\n",
      "out1: [[2.99098519e-02 7.06085544e-01 5.08444724e-02 7.90448890e-01\n",
      "  6.02435072e-01 1.62410711e-01 1.94226813e-04 8.60170995e-01\n",
      "  3.96520735e-04 5.69124297e-01 3.73052515e-02 4.94344074e-01\n",
      "  6.44903680e-01 8.89385217e-01 2.18343657e-01 2.29078011e-02\n",
      "  4.80614709e-02 6.15404400e-04 8.76092985e-02 8.79960919e-01\n",
      "  2.21632942e-03 9.48801384e-02 2.86648579e-01 1.49236084e-01\n",
      "  1.92095383e-01 9.36266207e-01 2.23003892e-02 8.15163125e-01\n",
      "  1.44212466e-02 5.58539413e-02 6.06673902e-02 2.47979412e-01\n",
      "  9.86100905e-01 2.81734427e-01 7.17393648e-04 5.58014499e-01\n",
      "  4.66432892e-01 8.72820830e-02 9.90373364e-01 9.80623650e-01\n",
      "  1.69707368e-01 6.58190150e-01 7.73346027e-02 9.98520263e-01\n",
      "  9.95487899e-01 1.64585393e-02 1.75799585e-01 1.85977053e-01\n",
      "  1.94144752e-01 5.54688482e-02 1.09692359e-01 1.76436477e-01\n",
      "  9.33586072e-01 9.98745086e-01 9.23906538e-01 7.80025962e-01\n",
      "  8.81821488e-01 6.24670082e-02 1.67173338e-02 3.37922089e-01\n",
      "  8.32780845e-02 5.96196211e-01 9.99289163e-01 8.35631089e-01\n",
      "  4.47804340e-03 8.90554688e-01 5.83736487e-04 2.32974195e-04\n",
      "  1.06410646e-02 1.50118681e-01 9.19182128e-01 9.92213511e-01\n",
      "  3.15846982e-01 9.41338312e-01 9.00163531e-01 9.56355718e-01\n",
      "  4.19903824e-02 9.82043636e-01 9.46666494e-01 9.55032004e-01\n",
      "  3.19986860e-02 9.95940938e-01 9.52897224e-01 1.29542142e-02\n",
      "  3.88560224e-02 3.38271258e-03 6.14374421e-02 7.91493914e-01\n",
      "  1.32487045e-01 2.66297547e-02 1.80759338e-03 8.19510875e-01\n",
      "  6.30914850e-02 1.05709896e-02 2.41870489e-01 5.09131414e-02\n",
      "  8.83879820e-01 9.96029942e-01 6.66971714e-01 9.99926436e-01]]\n",
      "out2: [[0.02618513 0.97783547]]\n",
      "t: [[0. 1.]]\n",
      "x: [[0. 1.]\n",
      " [0. 1.]\n",
      " [0. 1.]]\n",
      "New_lr: 0.00021860347467864697\n",
      "_________\n",
      "Clipping was done\n",
      "loss: 0.03318608802296551 epoch: 6000\n",
      "_________\n",
      "out1: [[2.97472943e-02 7.09676234e-01 5.13112556e-02 7.90515833e-01\n",
      "  6.02360486e-01 1.59583044e-01 1.93428157e-04 8.60616752e-01\n",
      "  3.88514677e-04 5.73285995e-01 3.65341042e-02 4.98375841e-01\n",
      "  6.47319558e-01 8.92075227e-01 2.18685230e-01 2.28749340e-02\n",
      "  4.82439073e-02 5.95292266e-04 8.78455621e-02 8.81036033e-01\n",
      "  2.21365073e-03 9.29806762e-02 2.87962410e-01 1.44088192e-01\n",
      "  1.93664698e-01 9.35652348e-01 2.22027212e-02 8.13169583e-01\n",
      "  1.45553816e-02 5.47445109e-02 5.90584683e-02 2.48651334e-01\n",
      "  9.86314509e-01 2.78050362e-01 7.10242682e-04 5.56848074e-01\n",
      "  4.69582885e-01 8.71154487e-02 9.90456889e-01 9.80531904e-01\n",
      "  1.70372131e-01 6.62471727e-01 7.57686703e-02 9.98530203e-01\n",
      "  9.95431703e-01 1.60685395e-02 1.75255615e-01 1.84874552e-01\n",
      "  1.90294364e-01 5.53859572e-02 1.08750320e-01 1.74608536e-01\n",
      "  9.34253905e-01 9.98749342e-01 9.24675569e-01 7.80572550e-01\n",
      "  8.82534552e-01 6.24316946e-02 1.68110867e-02 3.38760119e-01\n",
      "  8.25482350e-02 5.96829657e-01 9.99288587e-01 8.34429469e-01\n",
      "  4.43031852e-03 8.90506911e-01 5.77333270e-04 2.24947410e-04\n",
      "  1.04686268e-02 1.49600678e-01 9.19134477e-01 9.92172744e-01\n",
      "  3.12460789e-01 9.41277771e-01 9.00458681e-01 9.56464992e-01\n",
      "  4.07071541e-02 9.81961799e-01 9.46180554e-01 9.53522090e-01\n",
      "  3.08378964e-02 9.95877751e-01 9.52992976e-01 1.31702704e-02\n",
      "  3.84262982e-02 3.33452981e-03 6.29916449e-02 7.89947432e-01\n",
      "  1.31122537e-01 2.66350249e-02 1.79071470e-03 8.22157024e-01\n",
      "  6.28160818e-02 1.05783907e-02 2.41108500e-01 5.03983772e-02\n",
      "  8.84365661e-01 9.96095604e-01 6.68653240e-01 9.99926250e-01]]\n",
      "out2: [[0.0255008  0.97876263]]\n",
      "t: [[0. 1.]]\n",
      "x: [[0. 1.]\n",
      " [0. 1.]\n",
      " [0. 1.]]\n",
      "New_lr: 0.0001418045246322499\n",
      "_________\n",
      "Clipping was done\n",
      "loss: 0.032637273803488694 epoch: 6500\n",
      "_________\n",
      "out1: [[2.96863028e-02 7.10036356e-01 5.15950357e-02 7.90192099e-01\n",
      "  6.02236167e-01 1.58613349e-01 1.93177412e-04 8.60684329e-01\n",
      "  3.86172920e-04 5.75560281e-01 3.60930433e-02 5.00704495e-01\n",
      "  6.48908109e-01 8.93421228e-01 2.18800048e-01 2.27707553e-02\n",
      "  4.83102854e-02 5.86126357e-04 8.84620055e-02 8.81769213e-01\n",
      "  2.21143309e-03 9.16631940e-02 2.88188305e-01 1.40937443e-01\n",
      "  1.95005651e-01 9.35266927e-01 2.21554648e-02 8.12082741e-01\n",
      "  1.46703173e-02 5.41200124e-02 5.81331812e-02 2.47900093e-01\n",
      "  9.86423308e-01 2.75945772e-01 7.06261952e-04 5.55799275e-01\n",
      "  4.70771223e-01 8.69895778e-02 9.90491265e-01 9.80510795e-01\n",
      "  1.70781359e-01 6.63638561e-01 7.45539496e-02 9.98530898e-01\n",
      "  9.95393667e-01 1.58908097e-02 1.75044112e-01 1.84623742e-01\n",
      "  1.87556830e-01 5.53632723e-02 1.08867301e-01 1.73102217e-01\n",
      "  9.34061981e-01 9.98755973e-01 9.25110957e-01 7.80701850e-01\n",
      "  8.82690563e-01 6.24903168e-02 1.68385321e-02 3.39275030e-01\n",
      "  8.22761798e-02 5.95477112e-01 9.99289359e-01 8.32964524e-01\n",
      "  4.41195823e-03 8.90841661e-01 5.77793036e-04 2.20938972e-04\n",
      "  1.03423411e-02 1.48764652e-01 9.18736913e-01 9.92068198e-01\n",
      "  3.09660237e-01 9.41042139e-01 9.00352154e-01 9.56371650e-01\n",
      "  3.99679799e-02 9.81895810e-01 9.45918605e-01 9.51714646e-01\n",
      "  3.02437290e-02 9.95833895e-01 9.52565296e-01 1.32678993e-02\n",
      "  3.81240407e-02 3.31024234e-03 6.42408747e-02 7.89290868e-01\n",
      "  1.30494295e-01 2.66012147e-02 1.77461243e-03 8.24418112e-01\n",
      "  6.26197035e-02 1.05834546e-02 2.39912022e-01 5.00110353e-02\n",
      "  8.84526545e-01 9.96114878e-01 6.69373237e-01 9.99926020e-01]]\n",
      "out2: [[0.02518494 0.97924162]]\n",
      "t: [[0. 1.]]\n",
      "x: [[0. 1.]\n",
      " [0. 1.]\n",
      " [0. 1.]]\n",
      "New_lr: 0.00014865893600307995\n",
      "_________\n",
      "Clipping was done\n",
      "loss: 0.053057852095736754 epoch: 7000\n",
      "_________\n",
      "out1: [[1.04665203e-02 2.93204330e-01 1.96443856e-02 9.93546070e-01\n",
      "  2.10552136e-01 1.62673848e-01 5.28268682e-03 8.76278234e-01\n",
      "  1.26320773e-03 1.06725091e-01 1.66399998e-02 2.01871472e-01\n",
      "  7.74316065e-01 9.76362757e-01 2.34973719e-01 1.24975936e-02\n",
      "  7.87283285e-02 2.21764070e-04 1.75952036e-01 9.48798341e-01\n",
      "  2.73754362e-04 7.32335845e-03 4.05803767e-02 6.03134030e-01\n",
      "  2.03457692e-01 8.82303913e-01 6.26574580e-02 9.43513012e-01\n",
      "  4.93832785e-02 8.32412144e-02 2.00555191e-02 6.76705119e-01\n",
      "  9.98349967e-01 2.85577350e-02 7.39266768e-04 8.17142511e-01\n",
      "  4.81528423e-01 4.43066998e-01 9.99781507e-01 9.88953591e-01\n",
      "  1.46659297e-02 7.68958567e-01 6.60838708e-02 9.99398087e-01\n",
      "  9.54542102e-01 5.03288690e-02 6.26675426e-01 6.01560309e-01\n",
      "  4.48284806e-01 5.31274771e-02 1.58256937e-01 2.30936000e-01\n",
      "  8.95453847e-01 9.99709028e-01 9.46107073e-01 3.14152453e-01\n",
      "  2.68406831e-01 7.67909167e-03 3.95114094e-03 9.08936578e-01\n",
      "  5.46580451e-02 8.48573464e-01 9.99811726e-01 9.42472392e-01\n",
      "  1.12871144e-01 8.86194968e-01 1.75523768e-03 6.56875416e-04\n",
      "  5.30600577e-03 2.08179143e-01 9.71156195e-01 9.93002314e-01\n",
      "  3.59447717e-02 9.27261663e-01 9.52258762e-01 8.75845617e-01\n",
      "  7.94925266e-02 9.94259551e-01 9.89580730e-01 9.00901677e-01\n",
      "  4.82161074e-02 9.97714132e-01 8.54234962e-01 1.24858858e-02\n",
      "  3.17785411e-03 2.06297535e-02 1.91016433e-01 4.66557740e-01\n",
      "  1.45815301e-02 2.40285513e-02 3.94236867e-04 8.93838737e-01\n",
      "  1.61367560e-01 1.82186859e-02 2.41774895e-01 1.45944583e-01\n",
      "  4.37343448e-01 9.84126291e-01 8.07635297e-01 9.99954102e-01]]\n",
      "out2: [[0.02476442 0.95307603]]\n",
      "t: [[0. 1.]]\n",
      "x: [[0. 1.]\n",
      " [0. 1.]\n",
      " [1. 0.]]\n",
      "New_lr: 0.00015294079271749742\n",
      "_________\n",
      "Clipping was done\n",
      "loss: 0.26833631849331757 epoch: 7500\n",
      "_________\n",
      "out1: [[6.32830535e-02 5.26280471e-04 2.08274317e-01 9.82302758e-01\n",
      "  2.14327688e-01 6.19221437e-01 3.22632613e-02 1.05765191e-01\n",
      "  1.09264440e-02 1.28081191e-02 1.35403794e-01 4.51690613e-02\n",
      "  3.12949648e-01 8.38136988e-01 3.43050509e-02 1.15500901e-02\n",
      "  2.90109276e-01 6.83455604e-03 1.27312104e-01 9.85490829e-01\n",
      "  1.70736209e-03 1.05329711e-02 1.58581625e-02 9.79698222e-01\n",
      "  1.39684108e-01 8.47457810e-01 6.01480584e-01 9.65260461e-01\n",
      "  1.36126687e-02 3.61725523e-01 3.84442303e-01 1.53882853e-01\n",
      "  9.92879319e-01 9.82536367e-02 1.14135403e-03 9.67146458e-01\n",
      "  8.40395390e-02 8.93971238e-03 9.93157992e-01 9.99553914e-01\n",
      "  1.13451414e-02 1.41200041e-01 3.24146143e-01 9.91903852e-01\n",
      "  9.93473873e-01 6.55125298e-01 8.66772980e-01 9.53021559e-01\n",
      "  9.26951624e-01 6.65215344e-03 6.60654798e-01 1.31061039e-01\n",
      "  2.79823860e-02 9.99918084e-01 8.50188316e-01 3.83781001e-02\n",
      "  7.24865643e-02 9.64443142e-02 3.43326636e-02 9.61390765e-01\n",
      "  1.37887812e-01 9.31232989e-03 9.98185934e-01 8.22565668e-01\n",
      "  9.27190855e-02 9.52079191e-01 3.27547037e-02 2.22833055e-02\n",
      "  1.98195731e-01 7.20536687e-02 2.11300035e-01 4.67039712e-01\n",
      "  1.78712918e-01 4.56525130e-01 6.13061056e-01 4.00029017e-01\n",
      "  7.77529408e-01 9.97623124e-01 9.79259228e-01 8.85407171e-02\n",
      "  4.69794088e-01 9.99293166e-01 6.08158807e-02 4.25045242e-04\n",
      "  5.24253288e-03 3.39737800e-02 2.21435728e-01 7.33116066e-01\n",
      "  6.87698309e-01 6.61742956e-02 1.41129791e-04 7.26727910e-01\n",
      "  1.04815547e-01 1.44477808e-02 3.40041011e-02 1.18798087e-01\n",
      "  2.00458036e-01 8.04060996e-01 1.45859859e-01 9.99604461e-01]]\n",
      "out2: [[0.86224814 0.23027984]]\n",
      "t: [[1. 0.]]\n",
      "x: [[1. 0.]\n",
      " [0. 1.]\n",
      " [1. 0.]]\n",
      "New_lr: 0.00017562890608746175\n",
      "_________\n",
      "Clipping was done\n"
     ]
    },
    {
     "name": "stdout",
     "output_type": "stream",
     "text": [
      "loss: 0.09272536318596299 epoch: 8000\n",
      "_________\n",
      "out1: [[1.38411813e-01 2.27988011e-05 2.10518355e-02 9.60549249e-01\n",
      "  3.10915578e-01 8.36581323e-01 1.20520004e-02 3.09358304e-01\n",
      "  1.29471158e-01 6.80284285e-03 3.62073042e-01 1.89605100e-02\n",
      "  6.98181044e-01 8.64247789e-01 8.10909728e-02 5.20145431e-04\n",
      "  1.57782886e-01 1.18773995e-01 1.85304661e-01 9.71695065e-01\n",
      "  1.40176475e-03 6.91209885e-03 1.96480045e-03 9.80212551e-01\n",
      "  8.13513241e-01 8.95010944e-01 6.24593862e-01 9.50022614e-01\n",
      "  3.32813522e-02 2.44964259e-01 2.26569173e-01 9.36142625e-02\n",
      "  9.97399712e-01 4.90740092e-01 9.39144776e-04 8.70547074e-01\n",
      "  4.78671875e-02 1.04615514e-02 9.62764999e-01 9.99879572e-01\n",
      "  5.41916241e-02 1.14879481e-01 9.34406574e-03 9.88460814e-01\n",
      "  9.63502435e-01 5.94229748e-01 8.38132003e-01 9.92227423e-01\n",
      "  8.09529611e-01 1.34144911e-02 8.33843883e-01 2.18261815e-01\n",
      "  1.73295861e-03 9.99967699e-01 9.71277251e-01 3.65845333e-02\n",
      "  1.98354682e-02 1.40281880e-02 9.82000612e-03 9.17155006e-01\n",
      "  3.28096667e-02 7.91474376e-03 9.99261404e-01 4.34254282e-01\n",
      "  2.52481715e-01 9.98399121e-01 4.75604435e-02 1.18662085e-02\n",
      "  2.60513695e-01 5.33560541e-02 3.45951018e-02 2.83677774e-01\n",
      "  1.93076485e-01 4.99416274e-01 8.59175401e-01 1.19431346e-01\n",
      "  3.99700870e-01 9.96825370e-01 9.76066243e-01 6.45801853e-02\n",
      "  6.79035266e-01 9.99729057e-01 4.37237335e-03 2.42677474e-04\n",
      "  4.85023133e-04 4.27781536e-02 6.97734190e-01 9.11056419e-01\n",
      "  3.50125808e-01 3.27477046e-02 1.54337861e-05 9.71935865e-01\n",
      "  1.38164196e-01 7.26457854e-03 2.41376325e-02 2.42631090e-01\n",
      "  3.91119741e-02 5.11478949e-01 3.87002198e-01 9.99675630e-01]]\n",
      "out2: [[0.96648498 0.08645656]]\n",
      "t: [[1. 0.]]\n",
      "x: [[1. 0.]\n",
      " [1. 0.]\n",
      " [1. 0.]]\n",
      "New_lr: 0.00011168858156161758\n",
      "_________\n",
      "Clipping was done\n",
      "loss: 0.06135409381983643 epoch: 8500\n",
      "_________\n",
      "out1: [[3.17574524e-01 1.33236600e-04 5.63415998e-02 3.71361039e-01\n",
      "  7.19509506e-01 8.32614915e-01 4.42958880e-04 2.78604628e-01\n",
      "  4.34950336e-02 7.31969951e-02 5.53496534e-01 7.21601866e-02\n",
      "  5.59948035e-01 5.66787206e-01 7.41877014e-02 9.44964888e-04\n",
      "  1.01072009e-01 2.59491230e-01 9.61062038e-02 9.32966294e-01\n",
      "  1.11734214e-02 8.43888230e-02 1.86127346e-02 8.39717339e-01\n",
      "  8.07742414e-01 9.42127647e-01 3.62741233e-01 8.29307231e-01\n",
      "  9.98672017e-03 1.66429238e-01 4.63872189e-01 1.58591012e-02\n",
      "  9.79139797e-01 9.25087044e-01 8.95918982e-04 6.50264484e-01\n",
      "  4.64768445e-02 1.26756025e-03 3.67362943e-01 9.99783334e-01\n",
      "  4.42070123e-01 7.09759421e-02 1.03167926e-02 9.71860252e-01\n",
      "  9.96246821e-01 3.08558741e-01 3.97097925e-01 9.51114762e-01\n",
      "  5.43610159e-01 1.39666672e-02 7.67756460e-01 1.57887745e-01\n",
      "  2.80141802e-03 9.99862424e-01 9.60218603e-01 2.27043441e-01\n",
      "  2.93800406e-01 1.10690692e-01 4.13938296e-02 3.66554839e-01\n",
      "  5.00458836e-02 2.02752807e-03 9.97205631e-01 1.86180065e-01\n",
      "  1.16205881e-02 9.98503358e-01 1.62092797e-02 4.02312971e-03\n",
      "  4.06943103e-01 3.57855066e-02 1.16594356e-02 2.50676821e-01\n",
      "  7.38527155e-01 5.53688766e-01 7.32174380e-01 2.92716787e-01\n",
      "  2.41016830e-01 9.89864900e-01 8.80866621e-01 1.19029147e-01\n",
      "  5.59657902e-01 9.99490912e-01 1.44914404e-02 2.57437997e-04\n",
      "  5.93561367e-03 7.06356828e-03 4.09996420e-01 9.77545615e-01\n",
      "  8.46306186e-01 3.58870643e-02 6.85949970e-05 9.52310785e-01\n",
      "  5.21176685e-02 4.11927938e-03 2.34385746e-02 8.82548167e-02\n",
      "  2.85762107e-01 8.10849254e-01 2.30743801e-01 9.99466349e-01]]\n",
      "out2: [[0.95889027 0.04554465]]\n",
      "t: [[1. 0.]]\n",
      "x: [[1. 0.]\n",
      " [1. 0.]\n",
      " [0. 1.]]\n",
      "New_lr: 0.00010679788259853206\n",
      "_________\n",
      "Clipping was done\n",
      "loss: 0.06048038942580786 epoch: 9000\n",
      "_________\n",
      "out1: [[3.20625117e-01 1.29041509e-04 5.65570737e-02 3.68601502e-01\n",
      "  7.19138280e-01 8.32579977e-01 4.47871019e-04 2.77276130e-01\n",
      "  4.46199387e-02 7.39811463e-02 5.56488245e-01 7.21061348e-02\n",
      "  5.62502955e-01 5.69506751e-01 7.32710379e-02 9.41323761e-04\n",
      "  1.03042879e-01 2.63667148e-01 9.74765982e-02 9.33007793e-01\n",
      "  1.13074606e-02 8.25126341e-02 1.82073881e-02 8.39396778e-01\n",
      "  8.11371005e-01 9.41953890e-01 3.62300186e-01 8.27990545e-01\n",
      "  1.01076254e-02 1.67564941e-01 4.60940011e-01 1.59701926e-02\n",
      "  9.79261180e-01 9.24739847e-01 8.97000293e-04 6.51756965e-01\n",
      "  4.59350504e-02 1.26966038e-03 3.62430986e-01 9.99784843e-01\n",
      "  4.45175325e-01 6.98149423e-02 1.02383780e-02 9.71369180e-01\n",
      "  9.96174182e-01 3.10368873e-01 3.98807020e-01 9.52599409e-01\n",
      "  5.44175983e-01 1.39323800e-02 7.68502849e-01 1.56187875e-01\n",
      "  2.68500089e-03 9.99862911e-01 9.60798840e-01 2.25687754e-01\n",
      "  2.90309207e-01 1.11385664e-01 4.16060925e-02 3.67080488e-01\n",
      "  5.02641970e-02 1.95508472e-03 9.97181125e-01 1.85341829e-01\n",
      "  1.21196098e-02 9.98525598e-01 1.66689233e-02 4.06528552e-03\n",
      "  4.12253281e-01 3.53988394e-02 1.13780653e-02 2.41980677e-01\n",
      "  7.38612010e-01 5.52515362e-01 7.30559525e-01 2.87550291e-01\n",
      "  2.40794418e-01 9.89827961e-01 8.80331178e-01 1.13050633e-01\n",
      "  5.58828537e-01 9.99490553e-01 1.41008230e-02 2.56688481e-04\n",
      "  5.85195276e-03 7.16596402e-03 4.20244149e-01 9.77888255e-01\n",
      "  8.45713156e-01 3.60554610e-02 6.86388005e-05 9.53050100e-01\n",
      "  5.28894988e-02 4.00500036e-03 2.33027368e-02 8.87947338e-02\n",
      "  2.81597594e-01 8.05917243e-01 2.28036049e-01 9.99458221e-01]]\n",
      "out2: [[0.95888309 0.044354  ]]\n",
      "t: [[1. 0.]]\n",
      "x: [[1. 0.]\n",
      " [1. 0.]\n",
      " [0. 1.]]\n",
      "New_lr: 0.00016390448795146638\n",
      "_________\n",
      "Clipping was done\n",
      "loss: 0.02938628715738203 epoch: 9500\n",
      "_________\n",
      "out1: [[2.93435138e-02 7.21231330e-01 5.33327291e-02 7.89623734e-01\n",
      "  6.01289359e-01 1.50934303e-01 1.89782666e-04 8.62257684e-01\n",
      "  3.60326484e-04 5.88907025e-01 3.34461369e-02 5.15861828e-01\n",
      "  6.57487803e-01 9.01978389e-01 2.19502768e-01 2.26132494e-02\n",
      "  4.85319402e-02 5.23959945e-04 8.96556493e-02 8.85354443e-01\n",
      "  2.19396102e-03 8.53508574e-02 2.94372953e-01 1.25016024e-01\n",
      "  2.01245119e-01 9.33364534e-01 2.19916899e-02 8.05708929e-01\n",
      "  1.51907355e-02 5.03564679e-02 5.28453154e-02 2.46271918e-01\n",
      "  9.87123903e-01 2.62424820e-01 6.81216361e-04 5.50812339e-01\n",
      "  4.81924705e-01 8.63309091e-02 9.90806399e-01 9.80176584e-01\n",
      "  1.73108480e-01 6.77899040e-01 6.89002201e-02 9.98554978e-01\n",
      "  9.95212825e-01 1.47163174e-02 1.73828349e-01 1.80639302e-01\n",
      "  1.72837627e-01 5.49702078e-02 1.06305676e-01 1.67339131e-01\n",
      "  9.36042142e-01 9.98776797e-01 9.27191723e-01 7.82437890e-01\n",
      "  8.86042717e-01 6.19707588e-02 1.71079492e-02 3.41731924e-01\n",
      "  7.99629804e-02 5.96953779e-01 9.99288884e-01 8.27903797e-01\n",
      "  4.23113791e-03 8.90951681e-01 5.55298046e-04 1.95262392e-04\n",
      "  9.66432203e-03 1.46497410e-01 9.18320653e-01 9.91794959e-01\n",
      "  2.97619401e-01 9.40349494e-01 9.00983992e-01 9.56758826e-01\n",
      "  3.59147062e-02 9.81599607e-01 9.44315780e-01 9.44832258e-01\n",
      "  2.68523629e-02 9.95581931e-01 9.52622580e-01 1.40303190e-02\n",
      "  3.67072606e-02 3.12893299e-03 6.99852234e-02 7.84078738e-01\n",
      "  1.26331326e-01 2.67027394e-02 1.71050054e-03 8.32652632e-01\n",
      "  6.12251327e-02 1.07000825e-02 2.35579065e-01 4.81553352e-02\n",
      "  8.86600008e-01 9.96327350e-01 6.74306997e-01 9.99925111e-01]]\n",
      "out2: [[0.02355568 0.9824306 ]]\n",
      "t: [[0. 1.]]\n",
      "x: [[0. 1.]\n",
      " [0. 1.]\n",
      " [0. 1.]]\n",
      "New_lr: 8.716129316322452e-05\n",
      "_________\n",
      "Clipping was done\n"
     ]
    }
   ],
   "source": [
    "epoch = 10000 #学習回数の定義　difine leaning epoch\n",
    "#学習の実行 taraning\n",
    "loss_memo = li_rnn.traning(input_data,target_data,epoch)#出力は誤差のリスト output is list of loss"
   ]
  },
  {
   "cell_type": "code",
   "execution_count": 11,
   "metadata": {
    "scrolled": false
   },
   "outputs": [
    {
     "data": {
      "text/plain": [
       "[<matplotlib.lines.Line2D at 0x7f295398f5e0>]"
      ]
     },
     "execution_count": 11,
     "metadata": {},
     "output_type": "execute_result"
    },
    {
     "data": {
      "image/png": "[encoded data removed]",
      "text/plain": [
       "<Figure size 432x288 with 1 Axes>"
      ]
     },
     "metadata": {
      "needs_background": "light"
     },
     "output_type": "display_data"
    }
   ],
   "source": [
    "#学種回数ごとの誤差の出力　visualize loss on taraning epochs\n",
    "plt.plot(loss_memo)"
   ]
  },
  {
   "cell_type": "code",
   "execution_count": 12,
   "metadata": {
    "scrolled": true
   },
   "outputs": [],
   "source": [
    "ix = input_data[2]\n",
    "li_rnn.def_parameter(Tau_H, Tau_O, dt, size_nois, step_length)\n",
    "memo_out1, memo_out2 = li_rnn.li_forward(ix, target_data[1])"
   ]
  },
  {
   "cell_type": "code",
   "execution_count": 13,
   "metadata": {
    "scrolled": true
   },
   "outputs": [
    {
     "data": {
      "image/png": "[encoded data removed]",
      "text/plain": [
       "<Figure size 432x288 with 1 Axes>"
      ]
     },
     "metadata": {
      "needs_background": "light"
     },
     "output_type": "display_data"
    }
   ],
   "source": [
    "for i in range(20):\n",
    "    plt.plot(memo_out1.T[i])"
   ]
  },
  {
   "cell_type": "code",
   "execution_count": 26,
   "metadata": {
    "scrolled": true
   },
   "outputs": [
    {
     "name": "stdout",
     "output_type": "stream",
     "text": [
      "loss: [[ 4.44779829e-09 -7.47854672e-06]] epoch: 995500\n",
      "_________\n",
      "tnum 6\n",
      "out2: [[4.44779829e-09 9.99992521e-01]]\n",
      "t: [[0. 1.]]\n",
      "x: [[0.    0.    0.993 1.    0.    0.977 0.    0.839 0.    0.    0.    0.\n",
      "  0.174 0.    0.008 0.    0.005 0.    0.362 1.    0.    0.    0.    0.99\n",
      "  0.    1.    0.    0.999 0.004 0.    0.    0.75  1.    0.014 0.    0.997\n",
      "  0.64  0.746 1.    1.    0.    0.032 0.    1.    0.998 0.    0.    0.002\n",
      "  0.035 0.    0.001 0.014 0.    1.    0.998 0.008 0.    0.    0.    1.\n",
      "  0.102 0.002 1.    0.985 0.    0.961 0.    0.    0.    0.    1.    1.\n",
      "  0.    0.999 0.068 0.978 0.    1.    1.    0.321 0.    1.    0.    0.\n",
      "  0.    0.    0.971 0.    0.044 0.    0.    1.    0.    0.    0.    0.\n",
      "  1.    0.866 0.999 1.   ]]\n",
      "New_lr: 0.8808345925104947\n",
      "_________\n",
      "loss: [[-4.34998728e-05  3.42235874e-05]] epoch: 996000\n",
      "_________\n",
      "tnum 1\n",
      "out2: [[9.99956500e-01 3.42235874e-05]]\n",
      "t: [[1. 0.]]\n",
      "x: [[0.    0.    0.    1.    0.445 1.    0.    0.503 0.    0.    0.    0.007\n",
      "  0.313 0.975 0.    0.    0.    0.    0.005 0.998 0.    0.    0.    0.022\n",
      "  0.002 1.    0.    1.    0.    0.091 1.    0.    1.    0.077 0.    0.\n",
      "  0.    0.    1.    1.    0.149 0.984 0.    0.454 1.    0.002 0.036 0.066\n",
      "  0.723 0.004 0.154 0.992 0.    1.    0.997 0.    1.    0.004 0.    0.\n",
      "  0.002 0.02  1.    0.    0.    1.    0.    0.    0.002 0.    0.    0.717\n",
      "  0.    0.    0.779 1.    0.    1.    1.    0.    0.995 1.    0.    0.\n",
      "  0.27  0.    0.001 1.    0.054 0.    0.    0.189 0.    0.004 0.    0.\n",
      "  0.007 0.005 0.002 1.   ]]\n",
      "New_lr: 0.8808345925104947\n",
      "_________\n",
      "loss: [[-1.46253955e-05  1.41287759e-04]] epoch: 996500\n",
      "_________\n",
      "tnum 3\n",
      "out2: [[9.99985375e-01 1.41287759e-04]]\n",
      "t: [[1. 0.]]\n",
      "x: [[0.    0.    0.    1.    0.064 1.    0.    0.959 0.    0.232 0.    0.112\n",
      "  0.541 0.995 0.    0.    0.    0.    0.001 0.986 0.    0.    0.    0.046\n",
      "  0.005 1.    0.    1.    0.    0.    0.971 0.    1.    0.001 0.    0.002\n",
      "  0.001 0.    1.    1.    0.072 0.998 0.    0.196 1.    0.    0.021 0.002\n",
      "  0.065 0.    0.037 1.    0.911 1.    0.997 0.    1.    0.094 0.    0.\n",
      "  0.11  0.285 1.    0.    0.    1.    0.    0.    0.01  0.    0.013 0.423\n",
      "  0.    0.    0.958 1.    0.    1.    1.    0.    0.933 1.    0.    0.\n",
      "  0.997 0.    0.    1.    0.    0.    0.    0.    0.    0.    0.    0.\n",
      "  0.692 0.021 0.049 1.   ]]\n",
      "New_lr: 0.8808345925104947\n",
      "_________\n",
      "loss: [[-4.34524318e-05  3.41891250e-05]] epoch: 997000\n",
      "_________\n",
      "tnum 1\n",
      "out2: [[9.99956548e-01 3.41891250e-05]]\n",
      "t: [[1. 0.]]\n",
      "x: [[0.    0.    0.    1.    0.445 1.    0.    0.503 0.    0.    0.    0.007\n",
      "  0.313 0.975 0.    0.    0.    0.    0.005 0.998 0.    0.    0.    0.022\n",
      "  0.002 1.    0.    1.    0.    0.091 1.    0.    1.    0.077 0.    0.\n",
      "  0.    0.    1.    1.    0.149 0.984 0.    0.454 1.    0.002 0.036 0.066\n",
      "  0.723 0.004 0.154 0.992 0.    1.    0.997 0.    1.    0.004 0.    0.\n",
      "  0.002 0.02  1.    0.    0.    1.    0.    0.    0.002 0.    0.    0.717\n",
      "  0.    0.    0.779 1.    0.    1.    1.    0.    0.995 1.    0.    0.\n",
      "  0.27  0.    0.001 1.    0.054 0.    0.    0.189 0.    0.004 0.    0.\n",
      "  0.007 0.005 0.002 1.   ]]\n",
      "New_lr: 0.8808345925104947\n",
      "_________\n",
      "loss: [[ 3.17521108e-05 -2.62382429e-05]] epoch: 997500\n",
      "_________\n",
      "tnum 5\n",
      "out2: [[3.17521108e-05 9.99973762e-01]]\n",
      "t: [[0. 1.]]\n",
      "x: [[0.    0.    0.292 1.    0.001 1.    0.    0.95  0.    0.    0.    0.\n",
      "  0.9   0.    0.    0.    0.    0.008 0.163 1.    0.    0.    0.    0.472\n",
      "  0.001 1.    0.    1.    0.001 0.    0.02  0.    1.    0.991 0.    0.667\n",
      "  0.924 0.    0.974 1.    0.    0.    0.    0.99  1.    0.001 0.    0.\n",
      "  0.945 0.    0.003 0.007 0.    1.    0.998 0.241 0.274 0.002 0.    1.\n",
      "  0.726 0.002 1.    0.    0.    0.999 0.    0.    0.065 0.    0.476 1.\n",
      "  0.091 0.006 0.    0.979 0.    1.    1.    0.    0.002 1.    0.    0.\n",
      "  0.003 0.    0.023 0.086 0.982 0.    0.    0.993 0.    0.    0.    0.\n",
      "  1.    0.83  0.622 1.   ]]\n",
      "New_lr: 0.8808345925104947\n",
      "_________\n",
      "loss: [[-8.33875996e-06  5.87083553e-05]] epoch: 998000\n",
      "_________\n",
      "tnum 2\n",
      "out2: [[9.99991661e-01 5.87083553e-05]]\n",
      "t: [[1. 0.]]\n",
      "x: [[0.    0.    0.    1.    0.    1.    0.    0.769 0.    0.    0.    0.001\n",
      "  0.342 0.996 0.    0.    0.    0.    0.    1.    0.    0.    0.    0.979\n",
      "  0.442 1.    0.    1.    0.    0.01  1.    0.    1.    0.    0.    0.001\n",
      "  0.001 0.    1.    1.    0.    0.989 0.    0.983 1.    0.007 0.909 0.255\n",
      "  0.985 0.    0.796 0.995 0.006 1.    1.    0.    0.963 0.    0.    0.047\n",
      "  0.    0.917 1.    0.    0.    1.    0.    0.    0.    0.    0.001 0.992\n",
      "  0.    0.    0.999 1.    0.    1.    1.    0.    1.    1.    0.    0.\n",
      "  0.007 0.    0.066 0.913 0.    0.    0.    0.576 0.    0.002 0.    0.\n",
      "  0.009 0.003 0.176 1.   ]]\n",
      "New_lr: 0.8808345925104947\n",
      "_________\n",
      "loss: [[-4.34030531e-05  3.41416924e-05]] epoch: 998500\n",
      "_________\n",
      "tnum 1\n",
      "out2: [[9.99956597e-01 3.41416924e-05]]\n",
      "t: [[1. 0.]]\n",
      "x: [[0.    0.    0.    1.    0.445 1.    0.    0.503 0.    0.    0.    0.007\n",
      "  0.313 0.975 0.    0.    0.    0.    0.005 0.998 0.    0.    0.    0.022\n",
      "  0.002 1.    0.    1.    0.    0.091 1.    0.    1.    0.077 0.    0.\n",
      "  0.    0.    1.    1.    0.149 0.984 0.    0.454 1.    0.002 0.036 0.066\n",
      "  0.723 0.004 0.154 0.992 0.    1.    0.997 0.    1.    0.004 0.    0.\n",
      "  0.002 0.02  1.    0.    0.    1.    0.    0.    0.002 0.    0.    0.717\n",
      "  0.    0.    0.779 1.    0.    1.    1.    0.    0.995 1.    0.    0.\n",
      "  0.27  0.    0.001 1.    0.054 0.    0.    0.189 0.    0.004 0.    0.\n",
      "  0.007 0.005 0.002 1.   ]]\n",
      "New_lr: 0.8808345925104947\n",
      "_________\n",
      "loss: [[-4.33850304e-05  3.41274548e-05]] epoch: 999000\n",
      "_________\n",
      "tnum 1\n",
      "out2: [[9.99956615e-01 3.41274548e-05]]\n",
      "t: [[1. 0.]]\n",
      "x: [[0.    0.    0.    1.    0.445 1.    0.    0.503 0.    0.    0.    0.007\n",
      "  0.313 0.975 0.    0.    0.    0.    0.005 0.998 0.    0.    0.    0.022\n",
      "  0.002 1.    0.    1.    0.    0.091 1.    0.    1.    0.077 0.    0.\n",
      "  0.    0.    1.    1.    0.149 0.984 0.    0.454 1.    0.002 0.036 0.066\n",
      "  0.723 0.004 0.154 0.992 0.    1.    0.997 0.    1.    0.004 0.    0.\n",
      "  0.002 0.02  1.    0.    0.    1.    0.    0.    0.002 0.    0.    0.717\n",
      "  0.    0.    0.779 1.    0.    1.    1.    0.    0.995 1.    0.    0.\n",
      "  0.27  0.    0.001 1.    0.054 0.    0.    0.189 0.    0.004 0.    0.\n",
      "  0.007 0.005 0.002 1.   ]]\n",
      "New_lr: 0.8808345925104947\n",
      "_________\n",
      "loss: [[-6.67197711e-06  1.75723813e-04]] epoch: 999500\n",
      "_________\n",
      "tnum 0\n",
      "out2: [[9.99993328e-01 1.75723813e-04]]\n",
      "t: [[1. 0.]]\n",
      "x: [[0.    0.    0.    1.    0.    1.    0.028 0.117 0.    0.    0.    0.\n",
      "  0.734 0.999 0.    0.    0.    0.    0.003 1.    0.    0.    0.    0.741\n",
      "  0.052 1.    0.    1.    0.001 0.362 0.996 0.    1.    0.001 0.    0.021\n",
      "  0.    0.005 1.    1.    0.    0.722 0.    0.62  1.    0.433 0.943 1.\n",
      "  0.998 0.001 0.874 0.997 0.    1.    0.999 0.    0.417 0.    0.    0.442\n",
      "  0.    0.01  1.    0.    0.    1.    0.    0.    0.001 0.    0.    0.737\n",
      "  0.    0.    0.532 0.979 0.002 1.    1.    0.    1.    1.    0.    0.\n",
      "  0.    0.    0.106 0.997 0.006 0.    0.    0.742 0.    0.046 0.    0.\n",
      "  0.    0.    0.019 1.   ]]\n",
      "New_lr: 0.8808345925104947\n",
      "_________\n"
     ]
    }
   ],
   "source": [
    "#リカレント層（LI）の出力に対する判断層の再学習　relearning　woth new output of Reccurebnt layer(LI)\n",
    "loss_memo = li_rnn.to_li_para(1000000)"
   ]
  },
  {
   "cell_type": "code",
   "execution_count": 27,
   "metadata": {
    "scrolled": true
   },
   "outputs": [
    {
     "data": {
      "text/plain": [
       "[<matplotlib.lines.Line2D at 0x7f2952a6cc10>]"
      ]
     },
     "execution_count": 27,
     "metadata": {},
     "output_type": "execute_result"
    },
    {
     "data": {
      "image/png": "[encoded data removed]",
      "text/plain": [
       "<Figure size 432x288 with 1 Axes>"
      ]
     },
     "metadata": {
      "needs_background": "light"
     },
     "output_type": "display_data"
    }
   ],
   "source": [
    "plt.plot(loss_memo)"
   ]
  },
  {
   "cell_type": "code",
   "execution_count": 28,
   "metadata": {},
   "outputs": [
    {
     "name": "stdout",
     "output_type": "stream",
     "text": [
      "[1. 0.]\n"
     ]
    },
    {
     "data": {
      "image/png": "[encoded data removed]",
      "text/plain": [
       "<Figure size 432x288 with 1 Axes>"
      ]
     },
     "metadata": {
      "needs_background": "light"
     },
     "output_type": "display_data"
    }
   ],
   "source": [
    "i=0\n",
    "input = input_data[i]\n",
    "memo_out1, memo_out2 = li_rnn.li_forward(input, target_data[i])\n",
    "print(target_data[i])\n",
    "plt.plot(memo_out2.T[0], label='A')\n",
    "plt.plot(memo_out2.T[1], label='B')\n",
    "plt.title('3_back_task')\n",
    "plt.legend()\n",
    "plt.show()"
   ]
  },
  {
   "cell_type": "code",
   "execution_count": 29,
   "metadata": {},
   "outputs": [],
   "source": [
    "def visu_dic(i):\n",
    "    input = input_data[i]\n",
    "    memo_out1, memo_out2 = li_rnn.li_forward(input, target_data[i])\n",
    "    print(target_data[i])\n",
    "    plt.plot(memo_out2.T[0], label='A')\n",
    "    plt.plot(memo_out2.T[1], label='B')\n",
    "    plt.title('3_back_task')\n",
    "    plt.legend()\n",
    "    plt.show()"
   ]
  },
  {
   "cell_type": "code",
   "execution_count": 30,
   "metadata": {},
   "outputs": [
    {
     "name": "stdout",
     "output_type": "stream",
     "text": [
      "[1. 0.]\n"
     ]
    },
    {
     "data": {
      "image/png": "[encoded data removed]",
      "text/plain": [
       "<Figure size 432x288 with 1 Axes>"
      ]
     },
     "metadata": {
      "needs_background": "light"
     },
     "output_type": "display_data"
    }
   ],
   "source": [
    "visu_dic(0) #iは入力パターンのインデックス i is index of input"
   ]
  },
  {
   "cell_type": "code",
   "execution_count": 31,
   "metadata": {},
   "outputs": [
    {
     "name": "stdout",
     "output_type": "stream",
     "text": [
      "[1. 0.]\n"
     ]
    },
    {
     "data": {
      "image/png": "[encoded data removed]",
      "text/plain": [
       "<Figure size 432x288 with 1 Axes>"
      ]
     },
     "metadata": {
      "needs_background": "light"
     },
     "output_type": "display_data"
    }
   ],
   "source": [
    "visu_dic(1)"
   ]
  },
  {
   "cell_type": "code",
   "execution_count": 32,
   "metadata": {},
   "outputs": [
    {
     "name": "stdout",
     "output_type": "stream",
     "text": [
      "[1. 0.]\n"
     ]
    },
    {
     "data": {
      "image/png": "[encoded data removed]",
      "text/plain": [
       "<Figure size 432x288 with 1 Axes>"
      ]
     },
     "metadata": {
      "needs_background": "light"
     },
     "output_type": "display_data"
    }
   ],
   "source": [
    "visu_dic(2)"
   ]
  },
  {
   "cell_type": "code",
   "execution_count": 33,
   "metadata": {},
   "outputs": [
    {
     "name": "stdout",
     "output_type": "stream",
     "text": [
      "[1. 0.]\n"
     ]
    },
    {
     "data": {
      "image/png": "[encoded data removed]",
      "text/plain": [
       "<Figure size 432x288 with 1 Axes>"
      ]
     },
     "metadata": {
      "needs_background": "light"
     },
     "output_type": "display_data"
    }
   ],
   "source": [
    "visu_dic(3)"
   ]
  },
  {
   "cell_type": "code",
   "execution_count": 34,
   "metadata": {},
   "outputs": [
    {
     "name": "stdout",
     "output_type": "stream",
     "text": [
      "[0. 1.]\n"
     ]
    },
    {
     "data": {
      "image/png": "[encoded data removed]",
      "text/plain": [
       "<Figure size 432x288 with 1 Axes>"
      ]
     },
     "metadata": {
      "needs_background": "light"
     },
     "output_type": "display_data"
    }
   ],
   "source": [
    "visu_dic(4)"
   ]
  },
  {
   "cell_type": "code",
   "execution_count": 35,
   "metadata": {},
   "outputs": [
    {
     "name": "stdout",
     "output_type": "stream",
     "text": [
      "[0. 1.]\n"
     ]
    },
    {
     "data": {
      "image/png": "[encoded data removed]",
      "text/plain": [
       "<Figure size 432x288 with 1 Axes>"
      ]
     },
     "metadata": {
      "needs_background": "light"
     },
     "output_type": "display_data"
    }
   ],
   "source": [
    "visu_dic(5)"
   ]
  },
  {
   "cell_type": "code",
   "execution_count": 36,
   "metadata": {},
   "outputs": [
    {
     "name": "stdout",
     "output_type": "stream",
     "text": [
      "[0. 1.]\n"
     ]
    },
    {
     "data": {
      "image/png": "[encoded data removed]",
      "text/plain": [
       "<Figure size 432x288 with 1 Axes>"
      ]
     },
     "metadata": {
      "needs_background": "light"
     },
     "output_type": "display_data"
    }
   ],
   "source": [
    "visu_dic(6)"
   ]
  },
  {
   "cell_type": "code",
   "execution_count": 37,
   "metadata": {},
   "outputs": [
    {
     "name": "stdout",
     "output_type": "stream",
     "text": [
      "[0. 1.]\n"
     ]
    },
    {
     "data": {
      "image/png": "[encoded data removed]",
      "text/plain": [
       "<Figure size 432x288 with 1 Axes>"
      ]
     },
     "metadata": {
      "needs_background": "light"
     },
     "output_type": "display_data"
    }
   ],
   "source": [
    "visu_dic(7)"
   ]
  },
  {
   "cell_type": "code",
   "execution_count": null,
   "metadata": {},
   "outputs": [],
   "source": []
  }
 ],
 "metadata": {
  "kernelspec": {
   "display_name": "Python 3",
   "language": "python",
   "name": "python3"
  },
  "language_info": {
   "codemirror_mode": {
    "name": "ipython",
    "version": 3
   },
   "file_extension": ".py",
   "mimetype": "text/x-python",
   "name": "python",
   "nbconvert_exporter": "python",
   "pygments_lexer": "ipython3",
   "version": "3.8.5"
  }
 },
 "nbformat": 4,
 "nbformat_minor": 2
}
